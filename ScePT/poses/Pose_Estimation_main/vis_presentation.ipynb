{
 "cells": [
  {
   "cell_type": "code",
   "execution_count": 2,
   "metadata": {},
   "outputs": [],
   "source": [
    "base_path = \"/lhome/petbau/master_thesis/runs/\"\n",
    "kp_model = base_path + \"run_2022-10-13T18-58-08-634192_SimpleLiftingModel_2D_labels_supervised/\"\n",
    "pc_model = base_path + \"run_2022-10-13T19-32-59-200129_PointNet/\"\n",
    "fusion_model = base_path + \"run_2022-10-13T20-15-23-337959_Lidar2dKeypointFusion_waymo_2d_labels_supervised/\"\n",
    "\n",
    "models = {\"SimpleLiftingModel\": kp_model, \"PointNet\": pc_model, \"Lidar2dKeypointFusion\":fusion_model}\n",
    "\n"
   ]
  },
  {
   "cell_type": "code",
   "execution_count": 3,
   "metadata": {},
   "outputs": [],
   "source": [
    "# some random import to make gin files work \n",
    "from input_pipeline.dataset import load_main_3D_data\n",
    "from train_supervised import SupervisedTrainer\n",
    "from train_unsupervised import SelfSupervisedTrainer\n",
    "\n",
    "from configs.constants import JOINT_KEYS, VIS_COMPLETE_IMG_HTML_STATIC, IMAGES_TO_VIS, JOINT_NAMES, JOINt_COLORS_DICT\n",
    "REVERSE_JOINT_KEYS = {value: key for key, value in JOINT_KEYS.items()}\n"
   ]
  },
  {
   "cell_type": "code",
   "execution_count": 4,
   "metadata": {},
   "outputs": [],
   "source": [
    "from models.supervised.lifting_networks.simple_lifting_model import SimpleLiftingModel\n",
    "from models.supervised.point_networks.pointnet import PointNet\n",
    "from models.supervised.fusion.lidar_2dkeypoint import Lidar2dKeypointFusionmodel\n",
    "\n",
    "from models.weakly_supervised.discriminator import Discriminator\n",
    "from models.weakly_supervised.generator import Generator\n",
    "\n",
    "import torch.nn as nn\n",
    "\n",
    "\n",
    "def get_model(model_name, supervised=False):\n",
    "    if supervised:\n",
    "        if model_name.lower() == \"SimpleLiftingModel\".lower():\n",
    "            model = SimpleLiftingModel(latent_dim=512)\n",
    "        elif model_name.lower() == \"PointNet\".lower():\n",
    "            model = PointNet(dropout=0.2)\n",
    "        elif model_name.lower() == \"Lidar2dKeypointFusion\".lower():\n",
    "            model = Lidar2dKeypointFusionmodel()\n",
    "        return model\n",
    "    else:\n",
    "        discriminator = Discriminator(activation=nn.LeakyReLU)\n",
    "        discriminator.apply(weights_init)\n",
    "        generator = Generator(activation=nn.LeakyReLU)\n",
    "        generator.apply(weights_init)\n",
    "\n",
    "        return generator, discriminator\n",
    "    \n"
   ]
  },
  {
   "cell_type": "code",
   "execution_count": 8,
   "metadata": {},
   "outputs": [
    {
     "name": "stdout",
     "output_type": "stream",
     "text": [
      "Loading SimpleLiftingModel model... \n",
      "Loading PointNet model... \n",
      "Loading Lidar2dKeypointFusion model... \n"
     ]
    }
   ],
   "source": [
    "import torch\n",
    "import gin \n",
    "\n",
    "# load all models \n",
    "for model_name, model_path in models.items():\n",
    "    gin.parse_config_file(model_path + \"config_operative.gin\")\n",
    "    model = get_model(model_name, supervised=True)\n",
    "    print(f\"Loading {model_name} model... \")\n",
    "    model.load_state_dict(torch.load(model_path + \"/ckpts/best_model\"))\n",
    "    models[model_name] = model\n",
    "    "
   ]
  },
  {
   "cell_type": "code",
   "execution_count": 9,
   "metadata": {},
   "outputs": [],
   "source": [
    "# get data \n",
    "from input_pipeline import dataset \n",
    "_, ds_test, _ = dataset.load(name=\"waymo_2d_labels_supervised\")"
   ]
  },
  {
   "cell_type": "code",
   "execution_count": 10,
   "metadata": {},
   "outputs": [],
   "source": [
    "data = next(iter(ds_test))\n",
    "sample = 11"
   ]
  },
  {
   "cell_type": "code",
   "execution_count": 11,
   "metadata": {},
   "outputs": [],
   "source": [
    "complete_sample, image =ds_test.dataset.dataset.get_complete_sample(int(data['idx'][sample]))\n",
    "keypoints_2D = data['keypoints_2D']\n",
    "occlusions_2D = data['occlusions_2D']\n",
    "# mask_2D = data['mask_2D']\n",
    "\n",
    "keypoints_3D = data['keypoints_3D']\n",
    "occlusions_3D = data['occlusions_3D']\n",
    "mask_3D = data['mask_3D']\n",
    "origin = data['root']\n",
    "\n",
    "pc = data['pc'].transpose(2, 1)"
   ]
  },
  {
   "cell_type": "code",
   "execution_count": 12,
   "metadata": {},
   "outputs": [],
   "source": [
    "# plot 3d keypoints\n",
    "from waymo_open_dataset.protos import keypoint_pb2\n",
    "from waymo_open_dataset.utils import keypoint_draw, frame_utils\n",
    "\n",
    "keypoints_3D_gt = []\n",
    "counter = 0\n",
    "for keypoint in keypoints_3D[sample]:\n",
    "    if mask_3D[sample][counter][0]:\n",
    "        laser_keypoint = keypoint_pb2.LaserKeypoint()\n",
    "        laser_keypoint.type = REVERSE_JOINT_KEYS[counter]\n",
    "        laser_keypoint.keypoint_3d.location_m.x = keypoint[0]  # complete_sample['keypoints_3d'][keypoint]['x'] - complete_sample['bb_3d']['center_x']\n",
    "        laser_keypoint.keypoint_3d.location_m.y = keypoint[1]  # complete_sample['keypoints_3d'][keypoint]['y'] - complete_sample['bb_3d']['center_y']\n",
    "        laser_keypoint.keypoint_3d.location_m.z = keypoint[2]  # complete_sample['keypoints_3d'][keypoint]['z'] - complete_sample['bb_3d']['center_z']\n",
    "        laser_keypoint.keypoint_3d.visibility.is_occluded = False if int(occlusions_3D[sample][counter]) == 1 else True\n",
    "        keypoints_3D_gt.append(laser_keypoint)\n",
    "    counter += 1\n",
    "laser_wireframe_gt = keypoint_draw.build_laser_wireframe(keypoints_3D_gt)\n",
    "\n"
   ]
  },
  {
   "cell_type": "code",
   "execution_count": null,
   "metadata": {},
   "outputs": [],
   "source": [
    "from waymo_open_dataset.utils.keypoint_draw import Wireframe\n",
    "import plotly.graph_objects as go\n",
    "import numpy as np\n",
    "\n",
    "def build_laser_wireframe( predictions, occlusions_3D):\n",
    "    \n",
    "        keypoints_3D_pred = []\n",
    "        counter = 0\n",
    "        for keypoint, occlusion in zip(predictions, occlusions_3D):\n",
    "            laser_keypoint = keypoint_pb2.LaserKeypoint()\n",
    "            laser_keypoint.type = REVERSE_JOINT_KEYS[counter]\n",
    "            laser_keypoint.keypoint_3d.location_m.x = keypoint[0]\n",
    "            laser_keypoint.keypoint_3d.location_m.y = keypoint[1]\n",
    "            laser_keypoint.keypoint_3d.location_m.z = keypoint[2]\n",
    "            laser_keypoint.keypoint_3d.visibility.is_occluded = False if int(occlusion) == 1 else True\n",
    "            keypoints_3D_pred.append(laser_keypoint)\n",
    "            counter += 1\n",
    "\n",
    "        return keypoint_draw.build_laser_wireframe(keypoints_3D_pred)\n",
    "    \n",
    "def create_plotly_figure(title=\"\", width=500, height=750) -> go.Figure:\n",
    "    \"\"\"Creates a plotly figure for 3D visualization.\"\"\"\n",
    "    fig = go.Figure()\n",
    "    axis_settings = dict(\n",
    "        showgrid=False,\n",
    "        zeroline=False,\n",
    "        showline=False,\n",
    "        showbackground=True,\n",
    "        showaxeslabels=True,\n",
    "        showticklabels=True)\n",
    "    fig.update_layout(\n",
    "        title_text=f\"{title}\",\n",
    "        width=width,\n",
    "        height=height,\n",
    "        showlegend=False,\n",
    "        scene=dict(\n",
    "            aspectmode='data',  # force xyz has same scale,\n",
    "            xaxis=axis_settings,\n",
    "            yaxis=axis_settings,\n",
    "            zaxis=axis_settings,\n",
    "        ),\n",
    "    )\n",
    "    return fig\n",
    "\n",
    "def draw_laser_wireframe(fig: go.Figure, wireframe: Wireframe, grey=False) -> None:\n",
    "    OCCLUDED_BORDER_WIDTH = 3\n",
    "    \"\"\"Draws a laser wireframe onto the plotly Figure.\"\"\"\n",
    "    for line in wireframe.lines:\n",
    "        points = np.stack([line.start, line.end], axis=0)\n",
    "        fig.add_trace(\n",
    "            go.Scatter3d(\n",
    "                mode='lines',\n",
    "                x=points[:, 0],\n",
    "                y=points[:, 1],\n",
    "                z=points[:, 2],\n",
    "                line=dict(color='#666b6b' if grey else line.color, width=line.width)))\n",
    "    dot_coords = np.stack([d.location for d in wireframe.dots], axis=0)\n",
    "    fig.add_trace(\n",
    "        go.Scatter3d(\n",
    "            text=[d.name for d in wireframe.dots],\n",
    "            mode='markers',\n",
    "            x=dot_coords[:, 0],\n",
    "            y=dot_coords[:, 1],\n",
    "            z=dot_coords[:, 2],\n",
    "            marker=dict(\n",
    "                color=['#666b6b' if grey else d.color for d in wireframe.dots],\n",
    "                size=[d.size*3 if d.name=='NOSE' else d.size for d in wireframe.dots],\n",
    "                line=dict(\n",
    "                    width=OCCLUDED_BORDER_WIDTH,\n",
    "                    color=[d.actual_border_color for d in wireframe.dots]))))\n"
   ]
  },
  {
   "cell_type": "code",
   "execution_count": 40,
   "metadata": {},
   "outputs": [],
   "source": [
    "from waymo_open_dataset.utils.keypoint_draw import Wireframe\n",
    "import plotly.graph_objects as go\n",
    "import numpy as np\n",
    "\n",
    "def build_laser_wireframe( predictions, occlusions_3D):\n",
    "    \n",
    "        keypoints_3D_pred = []\n",
    "        counter = 0\n",
    "        for keypoint, occlusion in zip(predictions, occlusions_3D):\n",
    "            laser_keypoint = keypoint_pb2.LaserKeypoint()\n",
    "            laser_keypoint.type = REVERSE_JOINT_KEYS[counter]\n",
    "            laser_keypoint.keypoint_3d.location_m.x = keypoint[0]\n",
    "            laser_keypoint.keypoint_3d.location_m.y = keypoint[1]\n",
    "            laser_keypoint.keypoint_3d.location_m.z = keypoint[2]\n",
    "            laser_keypoint.keypoint_3d.visibility.is_occluded = False if int(occlusion) == 1 else True\n",
    "            keypoints_3D_pred.append(laser_keypoint)\n",
    "            counter += 1\n",
    "\n",
    "        return keypoint_draw.build_laser_wireframe(keypoints_3D_pred)\n",
    "    \n",
    "def create_plotly_figure(title=\"\", width=500, height=750) -> go.Figure:\n",
    "    \"\"\"Creates a plotly figure for 3D visualization.\"\"\"\n",
    "    fig = go.Figure()\n",
    "    axis_settings = dict(\n",
    "        showgrid=False,\n",
    "        zeroline=False,\n",
    "        showline=False,\n",
    "        showbackground=True,\n",
    "        showaxeslabels=True,\n",
    "        showticklabels=True)\n",
    "    fig.update_layout(\n",
    "        title_text=f\"{title}\",\n",
    "        width=width,\n",
    "        height=height,\n",
    "        showlegend=False,\n",
    "        scene=dict(\n",
    "            aspectmode='data',  # force xyz has same scale,\n",
    "            xaxis=axis_settings,\n",
    "            yaxis=axis_settings,\n",
    "            zaxis=axis_settings,\n",
    "        ),\n",
    "    )\n",
    "    return fig\n",
    "\n",
    "def draw_laser_wireframe(fig: go.Figure, wireframe: Wireframe, color=None) -> None:\n",
    "    OCCLUDED_BORDER_WIDTH = 3\n",
    "    \"\"\"Draws a laser wireframe onto the plotly Figure.\"\"\"\n",
    "    for line in wireframe.lines:\n",
    "        if color is not None:\n",
    "            line_color=dict(color=color, width=line.width)\n",
    "            scatter_color = [color for d in wireframe.dots]\n",
    "            border_color = [color for d in wireframe.dots]\n",
    "        else:\n",
    "            line_color = dict(color=line.color, width=line.width)\n",
    "            scatter_color= [d.color for d in wireframe.dots]\n",
    "            border_color = [d.actual_border_color for d in wireframe.dots]\n",
    "        points = np.stack([line.start, line.end], axis=0)\n",
    "        fig.add_trace(\n",
    "            go.Scatter3d(\n",
    "                mode='lines',\n",
    "                x=points[:, 0],\n",
    "                y=points[:, 1],\n",
    "                z=points[:, 2],\n",
    "                line=line_color,))\n",
    "    dot_coords = np.stack([d.location for d in wireframe.dots], axis=0)\n",
    "    fig.add_trace(\n",
    "        go.Scatter3d(\n",
    "            text=[d.name for d in wireframe.dots],\n",
    "            mode='markers',\n",
    "            x=dot_coords[:, 0],\n",
    "            y=dot_coords[:, 1],\n",
    "            z=dot_coords[:, 2],\n",
    "            marker=dict(\n",
    "                color=scatter_color,\n",
    "                size=[d.size*3 if d.name=='NOSE' else d.size for d in wireframe.dots],\n",
    "                line=dict(\n",
    "                    width=OCCLUDED_BORDER_WIDTH,\n",
    "                    color=border_color))))\n"
   ]
  },
  {
   "cell_type": "code",
   "execution_count": 18,
   "metadata": {},
   "outputs": [
    {
     "name": "stdout",
     "output_type": "stream",
     "text": [
      "Predicting unsing SimpleLiftingModel...\n",
      "Predicting unsing PointNet...\n",
      "Predicting unsing Lidar2dKeypointFusion...\n"
     ]
    }
   ],
   "source": [
    "predictions = {\"SimpleLiftingModel\": None, \"PointNet\":None, \"Lidar2dKeypointFusion\":None}\n",
    "\n",
    "for name, model in models.items():\n",
    "    print(f\"Predicting unsing {name}...\")\n",
    "    if name.lower() == \"PointNet\".lower():\n",
    "        preds, _ = model(pc)\n",
    "    elif name == \"SimpleLiftingModel\":\n",
    "        preds = model(keypoints_2D)\n",
    "    elif name.lower() == \"Lidar2dKeypointFusion\".lower():\n",
    "        preds, _, _ = model(pc, keypoints_2D, gt=(keypoints_3D, data['mask_3D']))\n",
    "    else:\n",
    "        print(\"Error! Wrong model name...\")\n",
    "        break\n",
    "    predictions[name] = preds\n",
    "    \n",
    "    \n",
    "    "
   ]
  },
  {
   "cell_type": "code",
   "execution_count": 55,
   "metadata": {},
   "outputs": [],
   "source": [
    "laser_wireframes =  {\"SimpleLiftingModel\": None, \"PointNet\":None, \"Lidar2dKeypointFusion\":None}\n",
    "laser_wireframe_gt = keypoint_draw.build_laser_wireframe(keypoints_3D_gt)\n",
    "figures = []\n",
    "\n",
    "# draw gt\n",
    "fig_gt = create_plotly_figure(title='GroundTruth')\n",
    "#draw_laser_wireframe(fig_gt, laser_wireframe_pred, color=\"#CC6600\")\n",
    "draw_laser_wireframe(fig_gt, laser_wireframe_gt, color=\"#00ADEF\")\n",
    "fig_gt.layout.scene.xaxis.showaxeslabels = False\n",
    "fig_gt.layout.scene.xaxis.showbackground = False\n",
    "fig_gt.layout.scene.xaxis.showticklabels = False\n",
    "fig_gt.layout.scene.yaxis.showaxeslabels = False\n",
    "fig_gt.layout.scene.yaxis.showbackground = False\n",
    "fig_gt.layout.scene.yaxis.showticklabels = False\n",
    "fig_gt.layout.scene.zaxis.showaxeslabels = False\n",
    "#fig.layout.scene.zaxis.showbackground = False\n",
    "fig_gt.layout.scene.zaxis.showticklabels = False\n",
    "figures.append(fig_gt)\n",
    "\n",
    "\n",
    "# SimpleLiftingModel\n",
    "laser_wireframe_pred = build_laser_wireframe(predictions['SimpleLiftingModel'][sample], occlusions_3D[sample])\n",
    "fig_lift = create_plotly_figure(title='SimpleLiftingModel')\n",
    "draw_laser_wireframe(fig_lift, laser_wireframe_pred, color=\"#CC6600\")\n",
    "#draw_laser_wireframe(fig_lift, laser_wireframe_gt, color=\"#00ADEF\")\n",
    "fig_lift.layout.scene.xaxis.showaxeslabels = False\n",
    "fig_lift.layout.scene.xaxis.showbackground = False\n",
    "fig_lift.layout.scene.xaxis.showticklabels = False\n",
    "fig_lift.layout.scene.yaxis.showaxeslabels = False\n",
    "fig_lift.layout.scene.yaxis.showbackground = False\n",
    "fig_lift.layout.scene.yaxis.showticklabels = False\n",
    "fig_lift.layout.scene.zaxis.showaxeslabels = False\n",
    "#fig.layout.scene.zaxis.showbackground = False\n",
    "fig_lift.layout.scene.zaxis.showticklabels = False\n",
    "figures.append(fig_lift)\n",
    "\n",
    "# PointNet\n",
    "laser_wireframe_pred = build_laser_wireframe(predictions['PointNet'][sample], occlusions_3D[sample])\n",
    "fig_point = create_plotly_figure(title='PointNet')\n",
    "draw_laser_wireframe(fig_point, laser_wireframe_pred, color=\"#CC6600\")\n",
    "#draw_laser_wireframe(fig_point, laser_wireframe_gt,color=\"#00ADEF\")\n",
    "fig_point.layout.scene.xaxis.showaxeslabels = False\n",
    "fig_point.layout.scene.xaxis.showbackground = False\n",
    "fig_point.layout.scene.xaxis.showticklabels = False\n",
    "fig_point.layout.scene.yaxis.showaxeslabels = False\n",
    "fig_point.layout.scene.yaxis.showbackground = False\n",
    "fig_point.layout.scene.yaxis.showticklabels = False\n",
    "fig_point.layout.scene.zaxis.showaxeslabels = False\n",
    "#fig.layout.scene.zaxis.showbackground = False\n",
    "fig_point.layout.scene.zaxis.showticklabels = False\n",
    "\n",
    "\n",
    "figures.append(fig_point)\n",
    "\n",
    "# Fusion\n",
    "laser_wireframe_pred = build_laser_wireframe(predictions['Lidar2dKeypointFusion'][sample], occlusions_3D[sample])\n",
    "fig_fusion = create_plotly_figure(title='Fusion')\n",
    "draw_laser_wireframe(fig_fusion, laser_wireframe_pred, color=\"#CC6600\")\n",
    "#draw_laser_wireframe(fig_fusion, laser_wireframe_gt, color=\"#00ADEF\")\n",
    "fig_fusion.layout.scene.xaxis.showaxeslabels = False\n",
    "fig_fusion.layout.scene.xaxis.showbackground = False\n",
    "fig_fusion.layout.scene.xaxis.showticklabels = False\n",
    "fig_fusion.layout.scene.yaxis.showaxeslabels = False\n",
    "fig_fusion.layout.scene.yaxis.showbackground = False\n",
    "fig_fusion.layout.scene.yaxis.showticklabels = False\n",
    "fig_fusion.layout.scene.zaxis.showaxeslabels = False\n",
    "#fig.layout.scene.zaxis.showbackground = False\n",
    "fig_fusion.layout.scene.zaxis.showticklabels = False\n",
    "\n",
    "figures.append(fig_fusion)\n",
    "    "
   ]
  },
  {
   "cell_type": "code",
   "execution_count": 53,
   "metadata": {},
   "outputs": [
    {
     "data": {
      "application/vnd.plotly.v1+json": {
       "config": {
        "plotlyServerURL": "https://plot.ly"
       },
       "data": [
        {
         "line": {
          "color": "#CC6600",
          "width": 8
         },
         "mode": "lines",
         "type": "scatter3d",
         "x": [
          -0.16965466737747192,
          -0.1556844413280487
         ],
         "y": [
          -0.0861426442861557,
          -0.09190457686781883
         ],
         "z": [
          -0.8015291094779968,
          -0.6174639016389847
         ]
        },
        {
         "line": {
          "color": "#CC6600",
          "width": 8
         },
         "mode": "lines",
         "type": "scatter3d",
         "x": [
          -0.1556844413280487,
          -0.1417142152786255
         ],
         "y": [
          -0.09190457686781883,
          -0.09766650944948196
         ],
         "z": [
          -0.6174639016389847,
          -0.43339869379997253
         ]
        },
        {
         "line": {
          "color": "#CC6600",
          "width": 8
         },
         "mode": "lines",
         "type": "scatter3d",
         "x": [
          -0.1417142152786255,
          -0.07654642406851053
         ],
         "y": [
          -0.09766650944948196,
          -0.06408241391181946
         ],
         "z": [
          -0.43339869379997253,
          -0.23511696979403496
         ]
        },
        {
         "line": {
          "color": "#CC6600",
          "width": 8
         },
         "mode": "lines",
         "type": "scatter3d",
         "x": [
          -0.07654642406851053,
          -0.011378632858395576
         ],
         "y": [
          -0.06408241391181946,
          -0.030498318374156952
         ],
         "z": [
          -0.23511696979403496,
          -0.03683524578809738
         ]
        },
        {
         "line": {
          "color": "#CC6600",
          "width": 8
         },
         "mode": "lines",
         "type": "scatter3d",
         "x": [
          -0.011378632858395576,
          0.012584715150296688
         ],
         "y": [
          -0.030498318374156952,
          -0.04190739989280701
         ],
         "z": [
          -0.03683524578809738,
          0.183246199041605
         ]
        },
        {
         "line": {
          "color": "#CC6600",
          "width": 8
         },
         "mode": "lines",
         "type": "scatter3d",
         "x": [
          0.012584715150296688,
          0.03654806315898895
         ],
         "y": [
          -0.04190739989280701,
          -0.05331648141145706
         ],
         "z": [
          0.183246199041605,
          0.4033276438713074
         ]
        },
        {
         "line": {
          "color": "#CC6600",
          "width": 8
         },
         "mode": "lines",
         "type": "scatter3d",
         "x": [
          0.03654806315898895,
          0.026793502271175385
         ],
         "y": [
          -0.05331648141145706,
          -0.1448754407465458
         ],
         "z": [
          0.4033276438713074,
          0.3782542496919632
         ]
        },
        {
         "line": {
          "color": "#CC6600",
          "width": 8
         },
         "mode": "lines",
         "type": "scatter3d",
         "x": [
          0.026793502271175385,
          0.017038941383361816
         ],
         "y": [
          -0.1448754407465458,
          -0.23643440008163452
         ],
         "z": [
          0.3782542496919632,
          0.353180855512619
         ]
        },
        {
         "line": {
          "color": "#CC6600",
          "width": 8
         },
         "mode": "lines",
         "type": "scatter3d",
         "x": [
          0.017038941383361816,
          -0.012432530522346497
         ],
         "y": [
          -0.23643440008163452,
          -0.19154581427574158
         ],
         "z": [
          0.353180855512619,
          0.45815785229206085
         ]
        },
        {
         "line": {
          "color": "#CC6600",
          "width": 8
         },
         "mode": "lines",
         "type": "scatter3d",
         "x": [
          -0.012432530522346497,
          -0.04190400242805481
         ],
         "y": [
          -0.19154581427574158,
          -0.14665722846984863
         ],
         "z": [
          0.45815785229206085,
          0.5631348490715027
         ]
        },
        {
         "line": {
          "color": "#CC6600",
          "width": 8
         },
         "mode": "lines",
         "type": "scatter3d",
         "x": [
          0.1229565441608429,
          0.03408370353281498
         ],
         "y": [
          0.28922751545906067,
          0.22054849565029144
         ],
         "z": [
          -0.7747188806533813,
          -0.6034730672836304
         ]
        },
        {
         "line": {
          "color": "#CC6600",
          "width": 8
         },
         "mode": "lines",
         "type": "scatter3d",
         "x": [
          0.03408370353281498,
          -0.054789137095212936
         ],
         "y": [
          0.22054849565029144,
          0.15186947584152222
         ],
         "z": [
          -0.6034730672836304,
          -0.4322272539138794
         ]
        },
        {
         "line": {
          "color": "#CC6600",
          "width": 8
         },
         "mode": "lines",
         "type": "scatter3d",
         "x": [
          -0.054789137095212936,
          -0.08427768014371395
         ],
         "y": [
          0.15186947584152222,
          0.14456576108932495
         ],
         "z": [
          -0.4322272539138794,
          -0.23373048193752766
         ]
        },
        {
         "line": {
          "color": "#CC6600",
          "width": 8
         },
         "mode": "lines",
         "type": "scatter3d",
         "x": [
          -0.08427768014371395,
          -0.11376622319221497
         ],
         "y": [
          0.14456576108932495,
          0.13726204633712769
         ],
         "z": [
          -0.23373048193752766,
          -0.03523370996117592
         ]
        },
        {
         "line": {
          "color": "#CC6600",
          "width": 8
         },
         "mode": "lines",
         "type": "scatter3d",
         "x": [
          -0.11376622319221497,
          -0.11816266924142838
         ],
         "y": [
          0.13726204633712769,
          0.15598606318235397
         ],
         "z": [
          -0.03523370996117592,
          0.19556818716228008
         ]
        },
        {
         "line": {
          "color": "#CC6600",
          "width": 8
         },
         "mode": "lines",
         "type": "scatter3d",
         "x": [
          -0.11816266924142838,
          -0.12255911529064178
         ],
         "y": [
          0.15598606318235397,
          0.17471008002758026
         ],
         "z": [
          0.19556818716228008,
          0.4263700842857361
         ]
        },
        {
         "line": {
          "color": "#CC6600",
          "width": 8
         },
         "mode": "lines",
         "type": "scatter3d",
         "x": [
          -0.12255911529064178,
          -0.16586821526288986
         ],
         "y": [
          0.17471008002758026,
          0.17839928716421127
         ],
         "z": [
          0.4263700842857361,
          0.31936731934547424
         ]
        },
        {
         "line": {
          "color": "#CC6600",
          "width": 8
         },
         "mode": "lines",
         "type": "scatter3d",
         "x": [
          -0.16586821526288986,
          -0.20917731523513794
         ],
         "y": [
          0.17839928716421127,
          0.18208849430084229
         ],
         "z": [
          0.31936731934547424,
          0.2123645544052124
         ]
        },
        {
         "line": {
          "color": "#CC6600",
          "width": 8
         },
         "mode": "lines",
         "type": "scatter3d",
         "x": [
          -0.20917731523513794,
          -0.2316053807735443
         ],
         "y": [
          0.18208849430084229,
          0.09158595278859138
         ],
         "z": [
          0.2123645544052124,
          0.2433033287525177
         ]
        },
        {
         "line": {
          "color": "#CC6600",
          "width": 8
         },
         "mode": "lines",
         "type": "scatter3d",
         "x": [
          -0.2316053807735443,
          -0.2540334463119507
         ],
         "y": [
          0.09158595278859138,
          0.0010834112763404846
         ],
         "z": [
          0.2433033287525177,
          0.274242103099823
         ]
        },
        {
         "line": {
          "color": "#CC6600",
          "width": 8
         },
         "mode": "lines",
         "type": "scatter3d",
         "x": [
          -0.011378632858395576,
          -0.06257242802530527
         ],
         "y": [
          -0.030498318374156952,
          0.05338186398148537
         ],
         "z": [
          -0.03683524578809738,
          -0.03603447787463665
         ]
        },
        {
         "line": {
          "color": "#CC6600",
          "width": 8
         },
         "mode": "lines",
         "type": "scatter3d",
         "x": [
          -0.06257242802530527,
          -0.11376622319221497
         ],
         "y": [
          0.05338186398148537,
          0.13726204633712769
         ],
         "z": [
          -0.03603447787463665,
          -0.03523370996117592
         ]
        },
        {
         "line": {
          "color": "#CC6600",
          "width": 8
         },
         "mode": "lines",
         "type": "scatter3d",
         "x": [
          0.03654806315898895,
          -0.043005526065826416
         ],
         "y": [
          -0.05331648141145706,
          0.0606967993080616
         ],
         "z": [
          0.4033276438713074,
          0.41484886407852173
         ]
        },
        {
         "line": {
          "color": "#CC6600",
          "width": 8
         },
         "mode": "lines",
         "type": "scatter3d",
         "x": [
          -0.043005526065826416,
          -0.12255911529064178
         ],
         "y": [
          0.0606967993080616,
          0.17471008002758026
         ],
         "z": [
          0.41484886407852173,
          0.4263700842857361
         ]
        },
        {
         "marker": {
          "color": [
           "#CC6600",
           "#CC6600",
           "#CC6600",
           "#CC6600",
           "#CC6600",
           "#CC6600",
           "#CC6600",
           "#CC6600",
           "#CC6600",
           "#CC6600",
           "#CC6600",
           "#CC6600",
           "#CC6600"
          ],
          "line": {
           "color": [
            "#CC6600",
            "#CC6600",
            "#CC6600",
            "#CC6600",
            "#CC6600",
            "#CC6600",
            "#CC6600",
            "#CC6600",
            "#CC6600",
            "#CC6600",
            "#CC6600",
            "#CC6600",
            "#CC6600"
           ],
           "width": 3
          },
          "size": [
           10.934579439252337,
           11.074766355140186,
           10.093457943925234,
           8.691588785046727,
           15,
           12.19626168224299,
           12.47663551401869,
           11.074766355140186,
           10.093457943925234,
           8.691588785046727,
           15,
           12.19626168224299,
           12.47663551401869
          ]
         },
         "mode": "markers",
         "text": [
          "NOSE",
          "LEFT_SHOULDER",
          "LEFT_ELBOW",
          "LEFT_WRIST",
          "LEFT_HIP",
          "LEFT_KNEE",
          "LEFT_ANKLE",
          "RIGHT_SHOULDER",
          "RIGHT_ELBOW",
          "RIGHT_WRIST",
          "RIGHT_HIP",
          "RIGHT_KNEE",
          "RIGHT_ANKLE"
         ],
         "type": "scatter3d",
         "x": [
          -0.12578408420085907,
          0.03654806315898895,
          0.017038941383361816,
          -0.04190400242805481,
          -0.011378632858395576,
          -0.1417142152786255,
          -0.16965466737747192,
          -0.12255911529064178,
          -0.20917731523513794,
          -0.2540334463119507,
          -0.11376622319221497,
          -0.054789137095212936,
          0.1229565441608429
         ],
         "y": [
          -0.02833934873342514,
          -0.05331648141145706,
          -0.23643440008163452,
          -0.14665722846984863,
          -0.030498318374156952,
          -0.09766650944948196,
          -0.0861426442861557,
          0.17471008002758026,
          0.18208849430084229,
          0.0010834112763404846,
          0.13726204633712769,
          0.15186947584152222,
          0.28922751545906067
         ],
         "z": [
          0.6108072400093079,
          0.4033276438713074,
          0.353180855512619,
          0.5631348490715027,
          -0.03683524578809738,
          -0.43339869379997253,
          -0.8015291094779968,
          0.4263700842857361,
          0.2123645544052124,
          0.274242103099823,
          -0.03523370996117592,
          -0.4322272539138794,
          -0.7747188806533813
         ]
        }
       ],
       "layout": {
        "height": 750,
        "scene": {
         "aspectmode": "data",
         "xaxis": {
          "showaxeslabels": false,
          "showbackground": false,
          "showgrid": false,
          "showline": false,
          "showticklabels": false,
          "zeroline": false
         },
         "yaxis": {
          "showaxeslabels": false,
          "showbackground": false,
          "showgrid": false,
          "showline": false,
          "showticklabels": false,
          "zeroline": false
         },
         "zaxis": {
          "showaxeslabels": false,
          "showbackground": true,
          "showgrid": false,
          "showline": false,
          "showticklabels": false,
          "zeroline": false
         }
        },
        "showlegend": false,
        "template": {
         "data": {
          "bar": [
           {
            "error_x": {
             "color": "#2a3f5f"
            },
            "error_y": {
             "color": "#2a3f5f"
            },
            "marker": {
             "line": {
              "color": "#E5ECF6",
              "width": 0.5
             },
             "pattern": {
              "fillmode": "overlay",
              "size": 10,
              "solidity": 0.2
             }
            },
            "type": "bar"
           }
          ],
          "barpolar": [
           {
            "marker": {
             "line": {
              "color": "#E5ECF6",
              "width": 0.5
             },
             "pattern": {
              "fillmode": "overlay",
              "size": 10,
              "solidity": 0.2
             }
            },
            "type": "barpolar"
           }
          ],
          "carpet": [
           {
            "aaxis": {
             "endlinecolor": "#2a3f5f",
             "gridcolor": "white",
             "linecolor": "white",
             "minorgridcolor": "white",
             "startlinecolor": "#2a3f5f"
            },
            "baxis": {
             "endlinecolor": "#2a3f5f",
             "gridcolor": "white",
             "linecolor": "white",
             "minorgridcolor": "white",
             "startlinecolor": "#2a3f5f"
            },
            "type": "carpet"
           }
          ],
          "choropleth": [
           {
            "colorbar": {
             "outlinewidth": 0,
             "ticks": ""
            },
            "type": "choropleth"
           }
          ],
          "contour": [
           {
            "colorbar": {
             "outlinewidth": 0,
             "ticks": ""
            },
            "colorscale": [
             [
              0,
              "#0d0887"
             ],
             [
              0.1111111111111111,
              "#46039f"
             ],
             [
              0.2222222222222222,
              "#7201a8"
             ],
             [
              0.3333333333333333,
              "#9c179e"
             ],
             [
              0.4444444444444444,
              "#bd3786"
             ],
             [
              0.5555555555555556,
              "#d8576b"
             ],
             [
              0.6666666666666666,
              "#ed7953"
             ],
             [
              0.7777777777777778,
              "#fb9f3a"
             ],
             [
              0.8888888888888888,
              "#fdca26"
             ],
             [
              1,
              "#f0f921"
             ]
            ],
            "type": "contour"
           }
          ],
          "contourcarpet": [
           {
            "colorbar": {
             "outlinewidth": 0,
             "ticks": ""
            },
            "type": "contourcarpet"
           }
          ],
          "heatmap": [
           {
            "colorbar": {
             "outlinewidth": 0,
             "ticks": ""
            },
            "colorscale": [
             [
              0,
              "#0d0887"
             ],
             [
              0.1111111111111111,
              "#46039f"
             ],
             [
              0.2222222222222222,
              "#7201a8"
             ],
             [
              0.3333333333333333,
              "#9c179e"
             ],
             [
              0.4444444444444444,
              "#bd3786"
             ],
             [
              0.5555555555555556,
              "#d8576b"
             ],
             [
              0.6666666666666666,
              "#ed7953"
             ],
             [
              0.7777777777777778,
              "#fb9f3a"
             ],
             [
              0.8888888888888888,
              "#fdca26"
             ],
             [
              1,
              "#f0f921"
             ]
            ],
            "type": "heatmap"
           }
          ],
          "heatmapgl": [
           {
            "colorbar": {
             "outlinewidth": 0,
             "ticks": ""
            },
            "colorscale": [
             [
              0,
              "#0d0887"
             ],
             [
              0.1111111111111111,
              "#46039f"
             ],
             [
              0.2222222222222222,
              "#7201a8"
             ],
             [
              0.3333333333333333,
              "#9c179e"
             ],
             [
              0.4444444444444444,
              "#bd3786"
             ],
             [
              0.5555555555555556,
              "#d8576b"
             ],
             [
              0.6666666666666666,
              "#ed7953"
             ],
             [
              0.7777777777777778,
              "#fb9f3a"
             ],
             [
              0.8888888888888888,
              "#fdca26"
             ],
             [
              1,
              "#f0f921"
             ]
            ],
            "type": "heatmapgl"
           }
          ],
          "histogram": [
           {
            "marker": {
             "pattern": {
              "fillmode": "overlay",
              "size": 10,
              "solidity": 0.2
             }
            },
            "type": "histogram"
           }
          ],
          "histogram2d": [
           {
            "colorbar": {
             "outlinewidth": 0,
             "ticks": ""
            },
            "colorscale": [
             [
              0,
              "#0d0887"
             ],
             [
              0.1111111111111111,
              "#46039f"
             ],
             [
              0.2222222222222222,
              "#7201a8"
             ],
             [
              0.3333333333333333,
              "#9c179e"
             ],
             [
              0.4444444444444444,
              "#bd3786"
             ],
             [
              0.5555555555555556,
              "#d8576b"
             ],
             [
              0.6666666666666666,
              "#ed7953"
             ],
             [
              0.7777777777777778,
              "#fb9f3a"
             ],
             [
              0.8888888888888888,
              "#fdca26"
             ],
             [
              1,
              "#f0f921"
             ]
            ],
            "type": "histogram2d"
           }
          ],
          "histogram2dcontour": [
           {
            "colorbar": {
             "outlinewidth": 0,
             "ticks": ""
            },
            "colorscale": [
             [
              0,
              "#0d0887"
             ],
             [
              0.1111111111111111,
              "#46039f"
             ],
             [
              0.2222222222222222,
              "#7201a8"
             ],
             [
              0.3333333333333333,
              "#9c179e"
             ],
             [
              0.4444444444444444,
              "#bd3786"
             ],
             [
              0.5555555555555556,
              "#d8576b"
             ],
             [
              0.6666666666666666,
              "#ed7953"
             ],
             [
              0.7777777777777778,
              "#fb9f3a"
             ],
             [
              0.8888888888888888,
              "#fdca26"
             ],
             [
              1,
              "#f0f921"
             ]
            ],
            "type": "histogram2dcontour"
           }
          ],
          "mesh3d": [
           {
            "colorbar": {
             "outlinewidth": 0,
             "ticks": ""
            },
            "type": "mesh3d"
           }
          ],
          "parcoords": [
           {
            "line": {
             "colorbar": {
              "outlinewidth": 0,
              "ticks": ""
             }
            },
            "type": "parcoords"
           }
          ],
          "pie": [
           {
            "automargin": true,
            "type": "pie"
           }
          ],
          "scatter": [
           {
            "fillpattern": {
             "fillmode": "overlay",
             "size": 10,
             "solidity": 0.2
            },
            "type": "scatter"
           }
          ],
          "scatter3d": [
           {
            "line": {
             "colorbar": {
              "outlinewidth": 0,
              "ticks": ""
             }
            },
            "marker": {
             "colorbar": {
              "outlinewidth": 0,
              "ticks": ""
             }
            },
            "type": "scatter3d"
           }
          ],
          "scattercarpet": [
           {
            "marker": {
             "colorbar": {
              "outlinewidth": 0,
              "ticks": ""
             }
            },
            "type": "scattercarpet"
           }
          ],
          "scattergeo": [
           {
            "marker": {
             "colorbar": {
              "outlinewidth": 0,
              "ticks": ""
             }
            },
            "type": "scattergeo"
           }
          ],
          "scattergl": [
           {
            "marker": {
             "colorbar": {
              "outlinewidth": 0,
              "ticks": ""
             }
            },
            "type": "scattergl"
           }
          ],
          "scattermapbox": [
           {
            "marker": {
             "colorbar": {
              "outlinewidth": 0,
              "ticks": ""
             }
            },
            "type": "scattermapbox"
           }
          ],
          "scatterpolar": [
           {
            "marker": {
             "colorbar": {
              "outlinewidth": 0,
              "ticks": ""
             }
            },
            "type": "scatterpolar"
           }
          ],
          "scatterpolargl": [
           {
            "marker": {
             "colorbar": {
              "outlinewidth": 0,
              "ticks": ""
             }
            },
            "type": "scatterpolargl"
           }
          ],
          "scatterternary": [
           {
            "marker": {
             "colorbar": {
              "outlinewidth": 0,
              "ticks": ""
             }
            },
            "type": "scatterternary"
           }
          ],
          "surface": [
           {
            "colorbar": {
             "outlinewidth": 0,
             "ticks": ""
            },
            "colorscale": [
             [
              0,
              "#0d0887"
             ],
             [
              0.1111111111111111,
              "#46039f"
             ],
             [
              0.2222222222222222,
              "#7201a8"
             ],
             [
              0.3333333333333333,
              "#9c179e"
             ],
             [
              0.4444444444444444,
              "#bd3786"
             ],
             [
              0.5555555555555556,
              "#d8576b"
             ],
             [
              0.6666666666666666,
              "#ed7953"
             ],
             [
              0.7777777777777778,
              "#fb9f3a"
             ],
             [
              0.8888888888888888,
              "#fdca26"
             ],
             [
              1,
              "#f0f921"
             ]
            ],
            "type": "surface"
           }
          ],
          "table": [
           {
            "cells": {
             "fill": {
              "color": "#EBF0F8"
             },
             "line": {
              "color": "white"
             }
            },
            "header": {
             "fill": {
              "color": "#C8D4E3"
             },
             "line": {
              "color": "white"
             }
            },
            "type": "table"
           }
          ]
         },
         "layout": {
          "annotationdefaults": {
           "arrowcolor": "#2a3f5f",
           "arrowhead": 0,
           "arrowwidth": 1
          },
          "autotypenumbers": "strict",
          "coloraxis": {
           "colorbar": {
            "outlinewidth": 0,
            "ticks": ""
           }
          },
          "colorscale": {
           "diverging": [
            [
             0,
             "#8e0152"
            ],
            [
             0.1,
             "#c51b7d"
            ],
            [
             0.2,
             "#de77ae"
            ],
            [
             0.3,
             "#f1b6da"
            ],
            [
             0.4,
             "#fde0ef"
            ],
            [
             0.5,
             "#f7f7f7"
            ],
            [
             0.6,
             "#e6f5d0"
            ],
            [
             0.7,
             "#b8e186"
            ],
            [
             0.8,
             "#7fbc41"
            ],
            [
             0.9,
             "#4d9221"
            ],
            [
             1,
             "#276419"
            ]
           ],
           "sequential": [
            [
             0,
             "#0d0887"
            ],
            [
             0.1111111111111111,
             "#46039f"
            ],
            [
             0.2222222222222222,
             "#7201a8"
            ],
            [
             0.3333333333333333,
             "#9c179e"
            ],
            [
             0.4444444444444444,
             "#bd3786"
            ],
            [
             0.5555555555555556,
             "#d8576b"
            ],
            [
             0.6666666666666666,
             "#ed7953"
            ],
            [
             0.7777777777777778,
             "#fb9f3a"
            ],
            [
             0.8888888888888888,
             "#fdca26"
            ],
            [
             1,
             "#f0f921"
            ]
           ],
           "sequentialminus": [
            [
             0,
             "#0d0887"
            ],
            [
             0.1111111111111111,
             "#46039f"
            ],
            [
             0.2222222222222222,
             "#7201a8"
            ],
            [
             0.3333333333333333,
             "#9c179e"
            ],
            [
             0.4444444444444444,
             "#bd3786"
            ],
            [
             0.5555555555555556,
             "#d8576b"
            ],
            [
             0.6666666666666666,
             "#ed7953"
            ],
            [
             0.7777777777777778,
             "#fb9f3a"
            ],
            [
             0.8888888888888888,
             "#fdca26"
            ],
            [
             1,
             "#f0f921"
            ]
           ]
          },
          "colorway": [
           "#636efa",
           "#EF553B",
           "#00cc96",
           "#ab63fa",
           "#FFA15A",
           "#19d3f3",
           "#FF6692",
           "#B6E880",
           "#FF97FF",
           "#FECB52"
          ],
          "font": {
           "color": "#2a3f5f"
          },
          "geo": {
           "bgcolor": "white",
           "lakecolor": "white",
           "landcolor": "#E5ECF6",
           "showlakes": true,
           "showland": true,
           "subunitcolor": "white"
          },
          "hoverlabel": {
           "align": "left"
          },
          "hovermode": "closest",
          "mapbox": {
           "style": "light"
          },
          "paper_bgcolor": "white",
          "plot_bgcolor": "#E5ECF6",
          "polar": {
           "angularaxis": {
            "gridcolor": "white",
            "linecolor": "white",
            "ticks": ""
           },
           "bgcolor": "#E5ECF6",
           "radialaxis": {
            "gridcolor": "white",
            "linecolor": "white",
            "ticks": ""
           }
          },
          "scene": {
           "xaxis": {
            "backgroundcolor": "#E5ECF6",
            "gridcolor": "white",
            "gridwidth": 2,
            "linecolor": "white",
            "showbackground": true,
            "ticks": "",
            "zerolinecolor": "white"
           },
           "yaxis": {
            "backgroundcolor": "#E5ECF6",
            "gridcolor": "white",
            "gridwidth": 2,
            "linecolor": "white",
            "showbackground": true,
            "ticks": "",
            "zerolinecolor": "white"
           },
           "zaxis": {
            "backgroundcolor": "#E5ECF6",
            "gridcolor": "white",
            "gridwidth": 2,
            "linecolor": "white",
            "showbackground": true,
            "ticks": "",
            "zerolinecolor": "white"
           }
          },
          "shapedefaults": {
           "line": {
            "color": "#2a3f5f"
           }
          },
          "ternary": {
           "aaxis": {
            "gridcolor": "white",
            "linecolor": "white",
            "ticks": ""
           },
           "baxis": {
            "gridcolor": "white",
            "linecolor": "white",
            "ticks": ""
           },
           "bgcolor": "#E5ECF6",
           "caxis": {
            "gridcolor": "white",
            "linecolor": "white",
            "ticks": ""
           }
          },
          "title": {
           "x": 0.05
          },
          "xaxis": {
           "automargin": true,
           "gridcolor": "white",
           "linecolor": "white",
           "ticks": "",
           "title": {
            "standoff": 15
           },
           "zerolinecolor": "white",
           "zerolinewidth": 2
          },
          "yaxis": {
           "automargin": true,
           "gridcolor": "white",
           "linecolor": "white",
           "ticks": "",
           "title": {
            "standoff": 15
           },
           "zerolinecolor": "white",
           "zerolinewidth": 2
          }
         }
        },
        "title": {
         "text": "Fusion"
        },
        "width": 500
       }
      }
     },
     "metadata": {},
     "output_type": "display_data"
    }
   ],
   "source": [
    "fig_fusion.show()"
   ]
  },
  {
   "cell_type": "code",
   "execution_count": 56,
   "metadata": {},
   "outputs": [
    {
     "ename": "",
     "evalue": "",
     "output_type": "error",
     "traceback": [
      "\u001b[1;31mThe Kernel crashed while executing code in the the current cell or a previous cell. Please review the code in the cell(s) to identify a possible cause of the failure. Click <a href='https://aka.ms/vscodeJupyterKernelCrash'>here</a> for more info. View Jupyter <a href='command:jupyter.viewOutput'>log</a> for further details."
     ]
    }
   ],
   "source": [
    "head_and_body = \"\"\"<!DOCTYPE html>\n",
    "<html>\n",
    "<head>\n",
    "<meta name=\"viewport\" content=\"width=device-width, initial-scale=1\">\n",
    "<style>\n",
    "* {\n",
    "  box-sizing: border-box;\n",
    "}\n",
    "\n",
    "/* Create three unequal columns that floats next to each other */\n",
    ".column {\n",
    "  float: left;\n",
    "  padding: 10px;\n",
    "  height: 300px; /* Should be removed. Only for demonstration */\n",
    "}\n",
    "\n",
    ".left, .right {\n",
    "  width: 25%;\n",
    "}\n",
    "\n",
    ".middle_left {\n",
    "  width: 25%;\n",
    "}\n",
    "\n",
    "/* Clear floats after the columns */\n",
    ".row:after {\n",
    "  content: \"\";\n",
    "  display: table;\n",
    "  clear: both;\n",
    "}\n",
    "</style>\n",
    "</head>\n",
    "<body>\n",
    "\"\"\"\n",
    "\n",
    "\n",
    "\n",
    "\n",
    "\n",
    "\n",
    "end = \"\"\"</body>\n",
    "</html>\n",
    "\"\"\"\n",
    "\n",
    "\n",
    "\n",
    "with open(\"presentation.html\", 'w') as dashboard:\n",
    "  \n",
    "    dashboard.write(head_and_body)\n",
    "    dashboard.write('<div class=\"row\">')\n",
    "    dashboard.write('<div class=\"column left\">')\n",
    "    inner_html = figures[0].to_html().split('<body>')[1].split('</body>')[0]\n",
    "    dashboard.write('<center>')\n",
    "    dashboard.write(inner_html)\n",
    "    dashboard.write('</center>')\n",
    "    dashboard.write('</div>')\n",
    "    dashboard.write('<div class=\"column middle\" >')\n",
    "    inner_html = figures[1].to_html().split('<body>')[1].split('</body>')[0]\n",
    "    dashboard.write('<center>')\n",
    "    dashboard.write(inner_html)\n",
    "    dashboard.write('</center>')\n",
    "    dashboard.write('</div>')\n",
    "    dashboard.write('<div class=\"column middle\" >')\n",
    "    inner_html = figures[2].to_html().split('<body>')[1].split('</body>')[0]\n",
    "    dashboard.write('<center>')\n",
    "    dashboard.write(inner_html)\n",
    "    dashboard.write('</center>')\n",
    "    dashboard.write('</div>')\n",
    "    dashboard.write('<div class=\"column right\"')\n",
    "    inner_html = figures[3].to_html().split('<body>')[1].split('</body>')[0]\n",
    "    dashboard.write('<center>')\n",
    "    dashboard.write(inner_html)\n",
    "    dashboard.write('</center>')\n",
    "    dashboard.write('</div>')\n",
    "    dashboard.write('</div>')\n",
    "    dashboard.write(end)\n",
    "    "
   ]
  }
 ],
 "metadata": {
  "kernelspec": {
   "display_name": "Python 3.8.10 ('waymo_env')",
   "language": "python",
   "name": "python3"
  },
  "language_info": {
   "codemirror_mode": {
    "name": "ipython",
    "version": 3
   },
   "file_extension": ".py",
   "mimetype": "text/x-python",
   "name": "python",
   "nbconvert_exporter": "python",
   "pygments_lexer": "ipython3",
   "version": "3.8.10"
  },
  "orig_nbformat": 4,
  "vscode": {
   "interpreter": {
    "hash": "c76ee9a5f1ac5f2f635a6843c1ec12051cdea65780fa74f1ec2d2bb92e193add"
   }
  }
 },
 "nbformat": 4,
 "nbformat_minor": 2
}
